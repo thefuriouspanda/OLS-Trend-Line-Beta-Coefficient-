{
 "cells": [
  {
   "cell_type": "code",
   "execution_count": 1,
   "id": "01c1c2f1",
   "metadata": {},
   "outputs": [],
   "source": [
    "import numpy as np"
   ]
  },
  {
   "cell_type": "code",
   "execution_count": 88,
   "id": "c772f970",
   "metadata": {},
   "outputs": [],
   "source": [
    "y = [12, 34, 29, 38, 34, 51, 29, 34, 47, 34, 55, 94, 68, 81]\n",
    "y1 = [50,40,30,20,10,5,4,3,2,1,0]\n",
    "y2 = [1,3,5,8,10,15,19,25,50,100]"
   ]
  },
  {
   "cell_type": "code",
   "execution_count": 89,
   "id": "4cc74ce2",
   "metadata": {},
   "outputs": [
    {
     "data": {
      "text/plain": [
       "list"
      ]
     },
     "execution_count": 89,
     "metadata": {},
     "output_type": "execute_result"
    }
   ],
   "source": [
    "type(y)"
   ]
  },
  {
   "cell_type": "code",
   "execution_count": 90,
   "id": "054fd4d5",
   "metadata": {},
   "outputs": [],
   "source": [
    "x = []\n",
    "x.append(range(len(y)))"
   ]
  },
  {
   "cell_type": "code",
   "execution_count": 91,
   "id": "19c2f106",
   "metadata": {},
   "outputs": [
    {
     "data": {
      "text/plain": [
       "[range(0, 14)]"
      ]
     },
     "execution_count": 91,
     "metadata": {},
     "output_type": "execute_result"
    }
   ],
   "source": [
    "x"
   ]
  },
  {
   "cell_type": "code",
   "execution_count": 92,
   "id": "0b1514e9",
   "metadata": {},
   "outputs": [],
   "source": [
    "x.append([1 for ele in range(len(y))])"
   ]
  },
  {
   "cell_type": "code",
   "execution_count": 93,
   "id": "586c9a13",
   "metadata": {},
   "outputs": [
    {
     "data": {
      "text/plain": [
       "[range(0, 14), [1, 1, 1, 1, 1, 1, 1, 1, 1, 1, 1, 1, 1, 1]]"
      ]
     },
     "execution_count": 93,
     "metadata": {},
     "output_type": "execute_result"
    }
   ],
   "source": [
    "x"
   ]
  },
  {
   "cell_type": "code",
   "execution_count": 94,
   "id": "52b9c0d7",
   "metadata": {},
   "outputs": [],
   "source": [
    "y = np.matrix(y).T"
   ]
  },
  {
   "cell_type": "code",
   "execution_count": 95,
   "id": "d1067e5a",
   "metadata": {},
   "outputs": [
    {
     "data": {
      "text/plain": [
       "matrix([[12],\n",
       "        [34],\n",
       "        [29],\n",
       "        [38],\n",
       "        [34],\n",
       "        [51],\n",
       "        [29],\n",
       "        [34],\n",
       "        [47],\n",
       "        [34],\n",
       "        [55],\n",
       "        [94],\n",
       "        [68],\n",
       "        [81]])"
      ]
     },
     "execution_count": 95,
     "metadata": {},
     "output_type": "execute_result"
    }
   ],
   "source": [
    "y"
   ]
  },
  {
   "cell_type": "code",
   "execution_count": 96,
   "id": "78c92165",
   "metadata": {},
   "outputs": [],
   "source": [
    "x = np.matrix(x).T"
   ]
  },
  {
   "cell_type": "code",
   "execution_count": 97,
   "id": "b8ca7e2f",
   "metadata": {},
   "outputs": [
    {
     "data": {
      "text/plain": [
       "matrix([[ 0,  1],\n",
       "        [ 1,  1],\n",
       "        [ 2,  1],\n",
       "        [ 3,  1],\n",
       "        [ 4,  1],\n",
       "        [ 5,  1],\n",
       "        [ 6,  1],\n",
       "        [ 7,  1],\n",
       "        [ 8,  1],\n",
       "        [ 9,  1],\n",
       "        [10,  1],\n",
       "        [11,  1],\n",
       "        [12,  1],\n",
       "        [13,  1]])"
      ]
     },
     "execution_count": 97,
     "metadata": {},
     "output_type": "execute_result"
    }
   ],
   "source": [
    "x"
   ]
  },
  {
   "cell_type": "code",
   "execution_count": 98,
   "id": "241f6c7c",
   "metadata": {},
   "outputs": [],
   "source": [
    "betas = ((x.T*x).I*x.T*y)"
   ]
  },
  {
   "cell_type": "code",
   "execution_count": 99,
   "id": "bcf51189",
   "metadata": {},
   "outputs": [
    {
     "data": {
      "text/plain": [
       "matrix([[ 4.32527473],\n",
       "        [17.6       ]])"
      ]
     },
     "execution_count": 99,
     "metadata": {},
     "output_type": "execute_result"
    }
   ],
   "source": [
    "betas"
   ]
  },
  {
   "cell_type": "markdown",
   "id": "e533179b",
   "metadata": {},
   "source": [
    "matrix([[  4.32527473],  #coefficient on the time variable\n",
    "        [ 17.6       ]]) #coefficient on the intercept \n",
    "        # Since the coefficient on the trend variable is positive, observations in your variable are increasing over time"
   ]
  },
  {
   "cell_type": "code",
   "execution_count": 29,
   "id": "659f6e2a",
   "metadata": {},
   "outputs": [],
   "source": [
    "x = range(1,len(y)+1)"
   ]
  },
  {
   "cell_type": "code",
   "execution_count": 20,
   "id": "3fbfbafd",
   "metadata": {},
   "outputs": [
    {
     "data": {
      "text/plain": [
       "range(1, 15)"
      ]
     },
     "execution_count": 20,
     "metadata": {},
     "output_type": "execute_result"
    }
   ],
   "source": [
    "x"
   ]
  },
  {
   "cell_type": "code",
   "execution_count": 21,
   "id": "973ce473",
   "metadata": {},
   "outputs": [],
   "source": [
    "def var(X):\n",
    "    S = 0.0\n",
    "    SS = 0.0\n",
    "    for x in X:\n",
    "        S += x\n",
    "        SS += x*x\n",
    "    xbar = S/float(len(X))\n",
    "    return (SS - len(X) * xbar * xbar) / (len(X) -1.0)"
   ]
  },
  {
   "cell_type": "code",
   "execution_count": 22,
   "id": "a501b19d",
   "metadata": {},
   "outputs": [],
   "source": [
    "def cov(X,Y):\n",
    "    n = len(X)\n",
    "    xbar = sum(X) / n\n",
    "    ybar = sum(Y) / n\n",
    "    return sum([(x-xbar)*(y-ybar) for x,y in zip(X,Y)])/(n-1)"
   ]
  },
  {
   "cell_type": "code",
   "execution_count": 23,
   "id": "4af05be4",
   "metadata": {},
   "outputs": [],
   "source": [
    "def beta(x,y):\n",
    "    return cov(x,y)/var(x)"
   ]
  },
  {
   "cell_type": "code",
   "execution_count": 31,
   "id": "ece239b2",
   "metadata": {},
   "outputs": [
    {
     "name": "stdout",
     "output_type": "stream",
     "text": [
      "-4.818181818181818\n"
     ]
    }
   ],
   "source": [
    "print(beta(x,y))"
   ]
  },
  {
   "cell_type": "markdown",
   "id": "c97161b6",
   "metadata": {},
   "source": [
    "## OLS"
   ]
  },
  {
   "cell_type": "code",
   "execution_count": 100,
   "id": "3de4fd9d",
   "metadata": {},
   "outputs": [],
   "source": [
    "def betacoeff(y):\n",
    "    x = range(1,len(y)+1)\n",
    "    def var(X):\n",
    "        S = 0.0\n",
    "        SS = 0.0\n",
    "        for x in X:\n",
    "            S += x\n",
    "            SS += x*x\n",
    "        xbar = S/float(len(X))\n",
    "        return (SS - len(X) * xbar * xbar) / (len(X) -1.0)\n",
    "    def cov(X,Y):\n",
    "        n = len(X)\n",
    "        xbar = sum(X) / n\n",
    "        ybar = sum(Y) / n\n",
    "        return sum([(x-xbar)*(y-ybar) for x,y in zip(X,Y)])/(n-1)\n",
    "    return cov(x,y)/var(x)"
   ]
  },
  {
   "cell_type": "code",
   "execution_count": 112,
   "id": "5d06b2bd",
   "metadata": {},
   "outputs": [],
   "source": [
    "y= [1,1,1,1,1,1,1,1,1,1,1,1,1,1,1,1]  #constant line\n",
    "y1 = [50,40,30,20,10,5,4,3,2,1,0] #decreasing line\n",
    "y2 = [1,3,5,8,10,15,19,25,50,100] #increasing line\n",
    "y3 = [12, 34, 29, 38, 34, 51, 29, 34, 47, 34, 55, 94, 68, 81] #shuffled line\n",
    "y4 = [1,2,3,4,5,6,7,8,9]\n",
    "y5 = [9,8,7,6,5,4,3,2,1]\n",
    "y6 = [-10000,500,40,30,20,10,5,4,3,2,1,0,10,40,400,4000]\n",
    "y7 = [100,50,40,30,20,10,5,6,9,14,15,20]"
   ]
  },
  {
   "cell_type": "code",
   "execution_count": 113,
   "id": "88a6a354",
   "metadata": {},
   "outputs": [
    {
     "data": {
      "text/plain": [
       "[0.0,\n",
       " -4.818181818181818,\n",
       " 8.23030303030303,\n",
       " 4.325274725274725,\n",
       " 1.0,\n",
       " -1.0,\n",
       " 306.3602941176471,\n",
       " -5.346153846153846]"
      ]
     },
     "execution_count": 113,
     "metadata": {},
     "output_type": "execute_result"
    }
   ],
   "source": [
    "[betacoeff(y),\n",
    "betacoeff(y1),\n",
    "betacoeff(y2),\n",
    "betacoeff(y3),\n",
    "betacoeff(y4),\n",
    "betacoeff(y5),\n",
    "betacoeff(y6),\n",
    "betacoeff(y7)]"
   ]
  },
  {
   "cell_type": "code",
   "execution_count": null,
   "id": "1bd5230d",
   "metadata": {},
   "outputs": [],
   "source": []
  }
 ],
 "metadata": {
  "kernelspec": {
   "display_name": "Python 3",
   "language": "python",
   "name": "python3"
  },
  "language_info": {
   "codemirror_mode": {
    "name": "ipython",
    "version": 3
   },
   "file_extension": ".py",
   "mimetype": "text/x-python",
   "name": "python",
   "nbconvert_exporter": "python",
   "pygments_lexer": "ipython3",
   "version": "3.8.8"
  }
 },
 "nbformat": 4,
 "nbformat_minor": 5
}
